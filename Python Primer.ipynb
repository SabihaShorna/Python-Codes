{
 "cells": [
  {
   "cell_type": "markdown",
   "id": "66f17f1b",
   "metadata": {},
   "source": [
    "# Learning Objectives"
   ]
  },
  {
   "cell_type": "markdown",
   "id": "596a9f8d",
   "metadata": {},
   "source": [
    "The objective of this notebook is to give a very gentle introduction to what we can do using Python. There are many things that can be done with Python -- however we are going to see the functionalities that we require in the context of Machine Learning"
   ]
  },
  {
   "cell_type": "markdown",
   "id": "283100fb",
   "metadata": {},
   "source": [
    "Here is a list of things we want to do\n",
    "\n",
    "1. Print Hello World in Python\n",
    "2. Do Simple computations like add two numbers, subtract one from another\n",
    "3. Write a function in Python to return the largest number in the array\n",
    "4. Write a function in Python to remove duplicate items from the array\n",
    "5. Write a function in Python to compute n!\n",
    "6. Write a function in Python to compute the nth Fibonacci number\n",
    "7. Write a function in Python to reverse sort an array\n",
    "8. Write a function in Python to return the length of a list\n",
    "9. Write the Python code for insertion sort algorithm\n",
    "10. Write the Python code for merge sort algorithm\n",
    "11. Write a class called Bird in Python and have a function called fly that takes flying speed as argument. Write a class called Hawk that inherits the Bird class\n",
    "12. Levenshtein Distance (Just for Fun, Optional)\n",
    "13. List Comprehension in Python"
   ]
  },
  {
   "cell_type": "code",
   "execution_count": 1,
   "id": "30c1615b",
   "metadata": {},
   "outputs": [
    {
     "name": "stdout",
     "output_type": "stream",
     "text": [
      "Hello World\n"
     ]
    }
   ],
   "source": [
    "#Print Hello World in Python\n",
    "print (\"Hello World\")"
   ]
  },
  {
   "cell_type": "code",
   "execution_count": 2,
   "id": "e0140712",
   "metadata": {},
   "outputs": [
    {
     "name": "stdout",
     "output_type": "stream",
     "text": [
      "Hello World\n"
     ]
    }
   ],
   "source": [
    "#Print Hello World in Python\n",
    "print('Hello World')"
   ]
  },
  {
   "cell_type": "code",
   "execution_count": 3,
   "id": "e3945b11",
   "metadata": {},
   "outputs": [
    {
     "data": {
      "text/plain": [
       "3"
      ]
     },
     "execution_count": 3,
     "metadata": {},
     "output_type": "execute_result"
    }
   ],
   "source": [
    "#Do Simple computations like add two numbers, subtract one from another\n",
    "3 + 5\n",
    "1 - 4\n",
    "1 + (4*5)%2\n",
    "9//2\n",
    "11//3"
   ]
  },
  {
   "cell_type": "code",
   "execution_count": 4,
   "id": "36d4a431",
   "metadata": {},
   "outputs": [
    {
     "name": "stdout",
     "output_type": "stream",
     "text": [
      "8\n",
      "-3\n",
      "1\n",
      "4\n",
      "2\n",
      "Hello World Hello World Hello World \n"
     ]
    }
   ],
   "source": [
    "#Do Simple computations like add two numbers, subtract one from another\n",
    "print(3 + 5)\n",
    "print(1 - 4)\n",
    "print(1 + (4*5)%2)\n",
    "print(9//2)\n",
    "print(29//10)\n",
    "print(3*\"Hello World \")"
   ]
  },
  {
   "cell_type": "code",
   "execution_count": 1,
   "id": "22f8965b",
   "metadata": {},
   "outputs": [],
   "source": [
    "#Write a function in Python to return the largest number in the array\n",
    "def find_largest(arr):\n",
    "    largest = arr[0]\n",
    "    for num in arr:\n",
    "        if num > largest:\n",
    "            largest = num\n",
    "    return largest\n"
   ]
  },
  {
   "cell_type": "code",
   "execution_count": 5,
   "id": "4d1f591f",
   "metadata": {},
   "outputs": [
    {
     "name": "stdout",
     "output_type": "stream",
     "text": [
      "7\n"
     ]
    }
   ],
   "source": [
    "# It is possible to create arrays in different ways. One of the ways is using a list\n",
    "# Lists, in Python, are mutable -- meaning you can change their elements\n",
    "myArray = [1, 3, 7, 2, 4, 6, 2]\n",
    "print(find_largest(myArray))"
   ]
  },
  {
   "cell_type": "code",
   "execution_count": 6,
   "id": "d7584994",
   "metadata": {},
   "outputs": [
    {
     "name": "stdout",
     "output_type": "stream",
     "text": [
      "1\n",
      "3\n",
      "7\n",
      "2\n",
      "4\n",
      "6\n",
      "2\n",
      "Length of the array:  7\n"
     ]
    }
   ],
   "source": [
    "# Write a Python code to print the contents in an array and also print out the length of the array\n",
    "for num in myArray:\n",
    "    print(num)\n",
    "print('Length of the array: ', len(myArray))"
   ]
  },
  {
   "cell_type": "code",
   "execution_count": 7,
   "id": "32754600",
   "metadata": {},
   "outputs": [],
   "source": [
    "# Write a function in Python to remove duplicate items from the array\n",
    "\n",
    "# There are several ways this can be done. One of the ways could be to use a built-in set function\n",
    "# that returns new set containing unique elements from the input\n",
    "\n",
    "def remove_duplicates(arr):\n",
    "    return list(set(arr))\n"
   ]
  },
  {
   "cell_type": "code",
   "execution_count": 8,
   "id": "59cc3427",
   "metadata": {},
   "outputs": [
    {
     "name": "stdout",
     "output_type": "stream",
     "text": [
      "[1, 2, 3, 4, 6, 7]\n"
     ]
    }
   ],
   "source": [
    "print (remove_duplicates(myArray))"
   ]
  },
  {
   "cell_type": "code",
   "execution_count": 9,
   "id": "eb9d4aa6",
   "metadata": {},
   "outputs": [
    {
     "data": {
      "text/plain": [
       "[1, 3, 7, 2, 4, 6, 2]"
      ]
     },
     "execution_count": 9,
     "metadata": {},
     "output_type": "execute_result"
    }
   ],
   "source": [
    "myArray"
   ]
  },
  {
   "cell_type": "code",
   "execution_count": 10,
   "id": "81d0d0ba",
   "metadata": {},
   "outputs": [
    {
     "data": {
      "text/plain": [
       "[1, 2, 3, 4, 6, 7]"
      ]
     },
     "execution_count": 10,
     "metadata": {},
     "output_type": "execute_result"
    }
   ],
   "source": [
    "# In order to reflect the change you should do the following\n",
    "myArray = remove_duplicates(myArray)\n",
    "myArray"
   ]
  },
  {
   "cell_type": "code",
   "execution_count": 11,
   "id": "1f853b5c",
   "metadata": {},
   "outputs": [
    {
     "data": {
      "text/plain": [
       "[1, 3, 7, 2, 4, 6, 2]"
      ]
     },
     "execution_count": 11,
     "metadata": {},
     "output_type": "execute_result"
    }
   ],
   "source": [
    "# Let's undo the changes made to myArray\n",
    "myArray = [1, 3, 7, 2, 4, 6, 2]\n",
    "myArray"
   ]
  },
  {
   "cell_type": "code",
   "execution_count": 12,
   "id": "eb1022ef",
   "metadata": {},
   "outputs": [],
   "source": [
    "# Another way to do this is by using a for loop and an empty list to keep track of the \n",
    "# unique elements:\n",
    "\n",
    "def remove_duplicates2(arr):\n",
    "    unique_list = []\n",
    "    for item in arr:\n",
    "        if item not in unique_list:\n",
    "            unique_list.append(item)\n",
    "    return unique_list"
   ]
  },
  {
   "cell_type": "code",
   "execution_count": 13,
   "id": "e6a9b4a8",
   "metadata": {},
   "outputs": [
    {
     "data": {
      "text/plain": [
       "[1, 3, 7, 2, 4, 6]"
      ]
     },
     "execution_count": 13,
     "metadata": {},
     "output_type": "execute_result"
    }
   ],
   "source": [
    "myArray = remove_duplicates2(myArray)\n",
    "myArray"
   ]
  },
  {
   "cell_type": "code",
   "execution_count": 14,
   "id": "3878f120",
   "metadata": {},
   "outputs": [],
   "source": [
    "# Write a function in Python to compute n!\n",
    "\n",
    "# Recursive Solution\n",
    "def factorial(n):\n",
    "    if n == 0:\n",
    "        return 1\n",
    "    else:\n",
    "        return n * factorial(n-1)\n"
   ]
  },
  {
   "cell_type": "code",
   "execution_count": 15,
   "id": "5467b251",
   "metadata": {},
   "outputs": [
    {
     "name": "stdout",
     "output_type": "stream",
     "text": [
      "2\n",
      "6\n",
      "24\n",
      "120\n"
     ]
    }
   ],
   "source": [
    "print(factorial(2))\n",
    "print(factorial(3))\n",
    "print(factorial(4))\n",
    "print(factorial(5))"
   ]
  },
  {
   "cell_type": "code",
   "execution_count": 16,
   "id": "467035da",
   "metadata": {},
   "outputs": [],
   "source": [
    "# Here is an iterative solution\n",
    "def factorial2(n):\n",
    "    result = 1\n",
    "    for i in range(1,n+1):\n",
    "        result *= i\n",
    "    return result\n"
   ]
  },
  {
   "cell_type": "code",
   "execution_count": 17,
   "id": "9607bb9e",
   "metadata": {},
   "outputs": [
    {
     "name": "stdout",
     "output_type": "stream",
     "text": [
      "2\n",
      "6\n",
      "24\n",
      "120\n"
     ]
    }
   ],
   "source": [
    "print(factorial2(2))\n",
    "print(factorial2(3))\n",
    "print(factorial2(4))\n",
    "print(factorial2(5))"
   ]
  },
  {
   "cell_type": "code",
   "execution_count": 18,
   "id": "01dbbb0c",
   "metadata": {},
   "outputs": [
    {
     "name": "stdout",
     "output_type": "stream",
     "text": [
      "Help on class range in module builtins:\n",
      "\n",
      "class range(object)\n",
      " |  range(stop) -> range object\n",
      " |  range(start, stop[, step]) -> range object\n",
      " |  \n",
      " |  Return an object that produces a sequence of integers from start (inclusive)\n",
      " |  to stop (exclusive) by step.  range(i, j) produces i, i+1, i+2, ..., j-1.\n",
      " |  start defaults to 0, and stop is omitted!  range(4) produces 0, 1, 2, 3.\n",
      " |  These are exactly the valid indices for a list of 4 elements.\n",
      " |  When step is given, it specifies the increment (or decrement).\n",
      " |  \n",
      " |  Methods defined here:\n",
      " |  \n",
      " |  __bool__(self, /)\n",
      " |      True if self else False\n",
      " |  \n",
      " |  __contains__(self, key, /)\n",
      " |      Return key in self.\n",
      " |  \n",
      " |  __eq__(self, value, /)\n",
      " |      Return self==value.\n",
      " |  \n",
      " |  __ge__(self, value, /)\n",
      " |      Return self>=value.\n",
      " |  \n",
      " |  __getattribute__(self, name, /)\n",
      " |      Return getattr(self, name).\n",
      " |  \n",
      " |  __getitem__(self, key, /)\n",
      " |      Return self[key].\n",
      " |  \n",
      " |  __gt__(self, value, /)\n",
      " |      Return self>value.\n",
      " |  \n",
      " |  __hash__(self, /)\n",
      " |      Return hash(self).\n",
      " |  \n",
      " |  __iter__(self, /)\n",
      " |      Implement iter(self).\n",
      " |  \n",
      " |  __le__(self, value, /)\n",
      " |      Return self<=value.\n",
      " |  \n",
      " |  __len__(self, /)\n",
      " |      Return len(self).\n",
      " |  \n",
      " |  __lt__(self, value, /)\n",
      " |      Return self<value.\n",
      " |  \n",
      " |  __ne__(self, value, /)\n",
      " |      Return self!=value.\n",
      " |  \n",
      " |  __reduce__(...)\n",
      " |      Helper for pickle.\n",
      " |  \n",
      " |  __repr__(self, /)\n",
      " |      Return repr(self).\n",
      " |  \n",
      " |  __reversed__(...)\n",
      " |      Return a reverse iterator.\n",
      " |  \n",
      " |  count(...)\n",
      " |      rangeobject.count(value) -> integer -- return number of occurrences of value\n",
      " |  \n",
      " |  index(...)\n",
      " |      rangeobject.index(value) -> integer -- return index of value.\n",
      " |      Raise ValueError if the value is not present.\n",
      " |  \n",
      " |  ----------------------------------------------------------------------\n",
      " |  Static methods defined here:\n",
      " |  \n",
      " |  __new__(*args, **kwargs) from builtins.type\n",
      " |      Create and return a new object.  See help(type) for accurate signature.\n",
      " |  \n",
      " |  ----------------------------------------------------------------------\n",
      " |  Data descriptors defined here:\n",
      " |  \n",
      " |  start\n",
      " |  \n",
      " |  step\n",
      " |  \n",
      " |  stop\n",
      "\n"
     ]
    }
   ],
   "source": [
    "help(range)"
   ]
  },
  {
   "cell_type": "code",
   "execution_count": 20,
   "id": "2a86ac50",
   "metadata": {},
   "outputs": [
    {
     "data": {
      "text/plain": [
       "['__bool__',\n",
       " '__class__',\n",
       " '__contains__',\n",
       " '__delattr__',\n",
       " '__dir__',\n",
       " '__doc__',\n",
       " '__eq__',\n",
       " '__format__',\n",
       " '__ge__',\n",
       " '__getattribute__',\n",
       " '__getitem__',\n",
       " '__gt__',\n",
       " '__hash__',\n",
       " '__init__',\n",
       " '__init_subclass__',\n",
       " '__iter__',\n",
       " '__le__',\n",
       " '__len__',\n",
       " '__lt__',\n",
       " '__ne__',\n",
       " '__new__',\n",
       " '__reduce__',\n",
       " '__reduce_ex__',\n",
       " '__repr__',\n",
       " '__reversed__',\n",
       " '__setattr__',\n",
       " '__sizeof__',\n",
       " '__str__',\n",
       " '__subclasshook__',\n",
       " 'count',\n",
       " 'index',\n",
       " 'start',\n",
       " 'step',\n",
       " 'stop']"
      ]
     },
     "execution_count": 20,
     "metadata": {},
     "output_type": "execute_result"
    }
   ],
   "source": [
    "dir(range)"
   ]
  },
  {
   "cell_type": "code",
   "execution_count": 19,
   "id": "47190796",
   "metadata": {},
   "outputs": [
    {
     "name": "stdout",
     "output_type": "stream",
     "text": [
      "1\n",
      "2\n",
      "3\n"
     ]
    }
   ],
   "source": [
    "# Let's explore the range function\n",
    "x = range(1, 4)\n",
    "for item in x:\n",
    "    print(item)"
   ]
  },
  {
   "cell_type": "code",
   "execution_count": 22,
   "id": "949d6c35",
   "metadata": {},
   "outputs": [
    {
     "data": {
      "text/plain": [
       "range(1, 4)"
      ]
     },
     "execution_count": 22,
     "metadata": {},
     "output_type": "execute_result"
    }
   ],
   "source": [
    "x"
   ]
  },
  {
   "cell_type": "code",
   "execution_count": 23,
   "id": "a812b766",
   "metadata": {},
   "outputs": [
    {
     "name": "stdout",
     "output_type": "stream",
     "text": [
      "1\n",
      "0\n"
     ]
    }
   ],
   "source": [
    "# rangeobject.count(value) -> integer -- return number of occurrences of value\n",
    "print(x.count(1))\n",
    "print(x.count(0))"
   ]
  },
  {
   "cell_type": "code",
   "execution_count": 24,
   "id": "ab4d0c81",
   "metadata": {},
   "outputs": [],
   "source": [
    "# Write a function in Python to compute the nth Fibonacci number\n",
    "def fibonacci(n):\n",
    "    if n <= 0:\n",
    "        return 0\n",
    "    elif n == 1:\n",
    "        return 1\n",
    "    else:\n",
    "        return fibonacci(n-1) + fibonacci(n-2)\n"
   ]
  },
  {
   "cell_type": "code",
   "execution_count": 25,
   "id": "2e692628",
   "metadata": {},
   "outputs": [
    {
     "name": "stdout",
     "output_type": "stream",
     "text": [
      "fib( 1 ) =  1\n",
      "fib( 2 ) =  1\n",
      "fib( 3 ) =  2\n",
      "fib( 4 ) =  3\n",
      "fib( 5 ) =  5\n"
     ]
    }
   ],
   "source": [
    "x = range(1, 6)\n",
    "for item in x: \n",
    "    print(\"fib(\", item, \") = \", fibonacci(item))"
   ]
  },
  {
   "cell_type": "markdown",
   "id": "06fed508",
   "metadata": {},
   "source": [
    "Those who have taken CSE 373 knows that the above code has the time complexity $O(2^n)$. This can be improved using Dynamic Programming\n"
   ]
  },
  {
   "cell_type": "code",
   "execution_count": 26,
   "id": "b7eee936",
   "metadata": {},
   "outputs": [],
   "source": [
    "# Here's the code that utilizes DP (bottom up approch)\n",
    "def fibonacci2(n):\n",
    "    if n <= 0:\n",
    "        return 0\n",
    "    elif n == 1:\n",
    "        return 1\n",
    "    else:\n",
    "        fib = [0]*(n+1)\n",
    "        fib[1] = 1\n",
    "        for i in range(2, n+1):\n",
    "            fib[i] = fib[i-1] + fib[i-2]\n",
    "        return fib[n]\n"
   ]
  },
  {
   "cell_type": "code",
   "execution_count": 27,
   "id": "8de8beca",
   "metadata": {},
   "outputs": [
    {
     "name": "stdout",
     "output_type": "stream",
     "text": [
      "fib( 1 ) =  1\n",
      "fib( 2 ) =  1\n",
      "fib( 3 ) =  2\n",
      "fib( 4 ) =  3\n",
      "fib( 5 ) =  5\n"
     ]
    }
   ],
   "source": [
    "x = range(1, 6)\n",
    "for item in x: \n",
    "    print(\"fib(\", item, \") = \", fibonacci2(item))"
   ]
  },
  {
   "cell_type": "markdown",
   "id": "0fce796a",
   "metadata": {},
   "source": [
    "In the code $fib = [0]*(n+1)$, $[0]*(n+1)$ creates a new list containing n+1 elements all initialized to 0."
   ]
  },
  {
   "cell_type": "code",
   "execution_count": 28,
   "id": "3108993e",
   "metadata": {},
   "outputs": [
    {
     "name": "stdout",
     "output_type": "stream",
     "text": [
      "[0, 1, 2, 0, 1, 2]\n"
     ]
    }
   ],
   "source": [
    "# What do you expect the following code to produce\n",
    "\n",
    "x = [0, 1, 2]\n",
    "print(x*2)"
   ]
  },
  {
   "cell_type": "code",
   "execution_count": 29,
   "id": "c0dbed0d",
   "metadata": {},
   "outputs": [],
   "source": [
    "# Write a function in Python to reverse sort an array\n",
    "\n",
    "def reverse_sort(arr):\n",
    "    return sorted(arr, reverse=True)\n"
   ]
  },
  {
   "cell_type": "code",
   "execution_count": 30,
   "id": "063b7f03",
   "metadata": {},
   "outputs": [
    {
     "data": {
      "text/plain": [
       "[1, 3, 7, 2, 4, 6]"
      ]
     },
     "execution_count": 30,
     "metadata": {},
     "output_type": "execute_result"
    }
   ],
   "source": [
    "myArray"
   ]
  },
  {
   "cell_type": "code",
   "execution_count": 31,
   "id": "8ae96301",
   "metadata": {},
   "outputs": [
    {
     "name": "stdout",
     "output_type": "stream",
     "text": [
      "[7, 6, 4, 3, 2, 1]\n"
     ]
    }
   ],
   "source": [
    "print(reverse_sort(myArray))"
   ]
  },
  {
   "cell_type": "code",
   "execution_count": 32,
   "id": "6401a613",
   "metadata": {},
   "outputs": [
    {
     "data": {
      "text/plain": [
       "[1, 3, 7, 2, 4, 6]"
      ]
     },
     "execution_count": 32,
     "metadata": {},
     "output_type": "execute_result"
    }
   ],
   "source": [
    "myArray"
   ]
  },
  {
   "cell_type": "code",
   "execution_count": 33,
   "id": "0608ad30",
   "metadata": {},
   "outputs": [],
   "source": [
    "# Another way to reverse sort would be:\n",
    "\n",
    "def reverse_sort2(arr):\n",
    "    arr.sort(reverse=True) # this function sorts the given array in place\n",
    "    return arr\n"
   ]
  },
  {
   "cell_type": "code",
   "execution_count": 34,
   "id": "66b08d54",
   "metadata": {},
   "outputs": [
    {
     "name": "stdout",
     "output_type": "stream",
     "text": [
      "[7, 6, 4, 3, 2, 1]\n"
     ]
    }
   ],
   "source": [
    "print(reverse_sort2(myArray))"
   ]
  },
  {
   "cell_type": "code",
   "execution_count": 35,
   "id": "f34067fd",
   "metadata": {},
   "outputs": [
    {
     "data": {
      "text/plain": [
       "[7, 6, 4, 3, 2, 1]"
      ]
     },
     "execution_count": 35,
     "metadata": {},
     "output_type": "execute_result"
    }
   ],
   "source": [
    "myArray"
   ]
  },
  {
   "cell_type": "code",
   "execution_count": 36,
   "id": "5a527966",
   "metadata": {},
   "outputs": [],
   "source": [
    "# Write a function in Python to return the length of a list\n",
    "def length_list(arr):\n",
    "    return len(arr)"
   ]
  },
  {
   "cell_type": "code",
   "execution_count": 37,
   "id": "4c87f009",
   "metadata": {},
   "outputs": [
    {
     "name": "stdout",
     "output_type": "stream",
     "text": [
      "6\n"
     ]
    }
   ],
   "source": [
    "print(length_list(myArray))"
   ]
  },
  {
   "cell_type": "code",
   "execution_count": 38,
   "id": "f2d0b61f",
   "metadata": {},
   "outputs": [],
   "source": [
    "# Write the Python code for insertion sort algorithm\n",
    "\n",
    "def insertion_sort(arr):\n",
    "    for j in range(1, len(arr)):\n",
    "        key = arr[j]\n",
    "        i = j-1\n",
    "        while arr[i] > key and i > -1 :\n",
    "            arr[i + 1] = arr[i]\n",
    "            i -= 1\n",
    "        arr[i + 1] = key\n",
    "    return arr\n"
   ]
  },
  {
   "cell_type": "code",
   "execution_count": 39,
   "id": "67e82477",
   "metadata": {},
   "outputs": [
    {
     "data": {
      "text/plain": [
       "[7, 6, 4, 3, 2, 1]"
      ]
     },
     "execution_count": 39,
     "metadata": {},
     "output_type": "execute_result"
    }
   ],
   "source": [
    "myArray"
   ]
  },
  {
   "cell_type": "code",
   "execution_count": 40,
   "id": "d914aee4",
   "metadata": {},
   "outputs": [
    {
     "name": "stdout",
     "output_type": "stream",
     "text": [
      "[1, 2, 3, 4, 6, 7]\n"
     ]
    }
   ],
   "source": [
    "insertion_sort(myArray)\n",
    "print(myArray)"
   ]
  },
  {
   "cell_type": "code",
   "execution_count": 41,
   "id": "f15a368c",
   "metadata": {},
   "outputs": [],
   "source": [
    "# Write the Python code for merge sort algorithm\n",
    "def merge_sort(arr):\n",
    "    if len(arr) > 1:\n",
    "        mid = len(arr) // 2\n",
    "        L = arr[:mid]\n",
    "        R = arr[mid:]\n",
    "\n",
    "        merge_sort(L)\n",
    "        merge_sort(R)\n",
    "\n",
    "        i = j = k = 0\n",
    "\n",
    "        while i < len(L) and j < len(R):\n",
    "            if L[i] < R[j]:\n",
    "                arr[k] = L[i]\n",
    "                i += 1\n",
    "            else:\n",
    "                arr[k] = R[j]\n",
    "                j += 1\n",
    "            k += 1\n",
    "\n",
    "        while i < len(L):\n",
    "            arr[k] = L[i]\n",
    "            i += 1\n",
    "            k += 1\n",
    "\n",
    "        while j < len(R):\n",
    "            arr[k] = R[j]\n",
    "            j += 1\n",
    "            k += 1\n",
    "\n",
    "    return arr\n"
   ]
  },
  {
   "cell_type": "code",
   "execution_count": 42,
   "id": "834bdc0e",
   "metadata": {},
   "outputs": [
    {
     "data": {
      "text/plain": [
       "[7, 6, 4, 3, 2, 1]"
      ]
     },
     "execution_count": 42,
     "metadata": {},
     "output_type": "execute_result"
    }
   ],
   "source": [
    "reverse_sort2(myArray)\n",
    "myArray"
   ]
  },
  {
   "cell_type": "code",
   "execution_count": 43,
   "id": "90c8d053",
   "metadata": {},
   "outputs": [
    {
     "data": {
      "text/plain": [
       "[1, 2, 3, 4, 6, 7]"
      ]
     },
     "execution_count": 43,
     "metadata": {},
     "output_type": "execute_result"
    }
   ],
   "source": [
    "merge_sort(myArray)"
   ]
  },
  {
   "cell_type": "code",
   "execution_count": 44,
   "id": "d64f7a4a",
   "metadata": {},
   "outputs": [
    {
     "data": {
      "text/plain": [
       "[1, 2, 3, 4, 6, 7]"
      ]
     },
     "execution_count": 44,
     "metadata": {},
     "output_type": "execute_result"
    }
   ],
   "source": [
    "myArray"
   ]
  },
  {
   "cell_type": "markdown",
   "id": "1e3175ac",
   "metadata": {},
   "source": [
    "# Zip function in Python"
   ]
  },
  {
   "cell_type": "markdown",
   "id": "79afee07",
   "metadata": {},
   "source": [
    "$\\textbf{zip}$ is a built-in Python function that allows you to iterate over multiple iterables in parallel. It takes any number of iterable objects as arguments and returns an iterator of tuples, where the i-th tuple contains the i-th element from each of the input iterables."
   ]
  },
  {
   "cell_type": "code",
   "execution_count": 45,
   "id": "17b39410",
   "metadata": {},
   "outputs": [
    {
     "name": "stdout",
     "output_type": "stream",
     "text": [
      "[(1, 4, 7), (2, 5, 8), (3, 6, 9)]\n"
     ]
    }
   ],
   "source": [
    "list1 = [1, 2, 3]\n",
    "list2 = [4, 5, 6]\n",
    "list3 = [7, 8, 9]\n",
    "\n",
    "zipped = zip(list1, list2, list3)\n",
    "\n",
    "print(list(zipped))\n"
   ]
  },
  {
   "cell_type": "code",
   "execution_count": 46,
   "id": "fb4a532b",
   "metadata": {},
   "outputs": [
    {
     "name": "stdout",
     "output_type": "stream",
     "text": [
      "1 4 7\n",
      "2 5 8\n",
      "3 6 9\n"
     ]
    }
   ],
   "source": [
    "# You can also use the zip function to iterate through multiple lists in a for loop, like this:\n",
    "\n",
    "list1 = [1, 2, 3]\n",
    "list2 = [4, 5, 6]\n",
    "list3 = [7, 8, 9]\n",
    "\n",
    "for a, b, c in zip(list1, list2, list3):\n",
    "    print(a, b, c)\n"
   ]
  },
  {
   "cell_type": "markdown",
   "id": "05da4620",
   "metadata": {},
   "source": [
    "# Classes and Objects in Python"
   ]
  },
  {
   "cell_type": "markdown",
   "id": "461dddc9",
   "metadata": {},
   "source": [
    "Write a class called Bird in Python and have a function called fly that takes flying speed as argument. Write a class called Hawk that inherits the Bird class"
   ]
  },
  {
   "cell_type": "markdown",
   "id": "87c362d1",
   "metadata": {},
   "source": [
    "Here's an example of a $\\textbf{Bird}$ class with a $\\textbf{fly()}$ method that takes the flying speed as an argument:"
   ]
  },
  {
   "cell_type": "code",
   "execution_count": 47,
   "id": "710c6346",
   "metadata": {},
   "outputs": [],
   "source": [
    "class Bird:\n",
    "    def __init__(self):\n",
    "        self.flying_speed = 0\n",
    "        \n",
    "    def fly(self, speed):\n",
    "        self.flying_speed = speed\n",
    "        print(\"Flying at {} km/h\".format(speed))\n"
   ]
  },
  {
   "cell_type": "markdown",
   "id": "c554b7e6",
   "metadata": {},
   "source": [
    "Here is an example of a $\\textbf{Hawk}$ class that inherits the $\\textbf{Bird}$ class:"
   ]
  },
  {
   "cell_type": "code",
   "execution_count": 48,
   "id": "339169ac",
   "metadata": {},
   "outputs": [],
   "source": [
    "class Hawk(Bird):\n",
    "    pass\n"
   ]
  },
  {
   "cell_type": "code",
   "execution_count": 49,
   "id": "23424504",
   "metadata": {},
   "outputs": [],
   "source": [
    "# You can also add new functionalities to the inherited class\n",
    "\n",
    "class Hawk(Bird):\n",
    "    def __init__(self):\n",
    "        Bird.__init__(self)\n",
    "        self.vision_distance = 0\n",
    "        \n",
    "    def set_vision_distance(self, distance):\n",
    "        self.vision_distance = distance\n",
    "        print(\"Hawk can see up to {} km away\".format(distance))\n",
    "\n"
   ]
  },
  {
   "cell_type": "code",
   "execution_count": 50,
   "id": "e6f81419",
   "metadata": {},
   "outputs": [
    {
     "name": "stdout",
     "output_type": "stream",
     "text": [
      "Flying at 50 km/h\n",
      "Hawk can see up to 2 km away\n"
     ]
    }
   ],
   "source": [
    "# Let's create an object of the Hawk class and call all its methods\n",
    "\n",
    "hawk = Hawk()\n",
    "hawk.fly(50) # prints \"Flying at 50 km/h\"\n",
    "hawk.set_vision_distance(2) # prints \"Hawk can see up to 2 km away\"\n"
   ]
  },
  {
   "cell_type": "markdown",
   "id": "93d2ba96",
   "metadata": {},
   "source": [
    "# Multiple Inheritance in Python"
   ]
  },
  {
   "cell_type": "markdown",
   "id": "ddeb09e9",
   "metadata": {},
   "source": [
    "Python supports multiple inheritance, which means that a class can inherit from multiple base classes. In Python, a class can inherit from multiple base classes by listing them in a tuple as the base classes, separated by commas.\n",
    "\n",
    "Here's an example of how to use multiple inheritance in Python:"
   ]
  },
  {
   "cell_type": "code",
   "execution_count": 51,
   "id": "4dfa3e89",
   "metadata": {},
   "outputs": [],
   "source": [
    "class Parent1:\n",
    "    def method1(self):\n",
    "        print(\"Method 1 of Parent 1\")\n",
    "\n",
    "class Parent2:\n",
    "    def method2(self):\n",
    "        print(\"Method 2 of Parent 2\")\n",
    "\n",
    "class Child(Parent1, Parent2):\n",
    "    pass\n"
   ]
  },
  {
   "cell_type": "markdown",
   "id": "d2a25b8e",
   "metadata": {},
   "source": [
    "In this example, the $\\textbf{Child}$ class inherits from both $\\textbf{Parent1}$ and $\\textbf(Parent2)$ classes.\n",
    "\n",
    "It is also important to note that in Python, the method resolution order (MRO) is determined by the <a href = \"https://en.wikipedia.org/wiki/C3_linearization\">C3 linearization algorithm</a>. This algorithm defines an order in which the base classes are searched for the method when a method is called on an instance of the derived class.\n",
    "\n",
    "In case of any ambiguity or conflict arises, the first class listed in the class definition has a higher precedence and its method will be used.\n",
    "\n",
    "Multiple inheritance is a powerful feature, but it can make the code more complex, so it should be used with caution. It's a good practice to use it only when it's really needed, and when it's used, make sure to understand the method resolution order and how it affects the behavior of the class."
   ]
  },
  {
   "cell_type": "markdown",
   "id": "26d4d9f7",
   "metadata": {},
   "source": [
    "# Lenvenshtein Distance (Just for Fun, Optional)"
   ]
  },
  {
   "cell_type": "code",
   "execution_count": 52,
   "id": "9edd046f",
   "metadata": {},
   "outputs": [
    {
     "name": "stdout",
     "output_type": "stream",
     "text": [
      "The Levenshtein Distance between kitten and sitting is: 3\n"
     ]
    }
   ],
   "source": [
    "def levenshteinDistance(s1, s2):\n",
    "    m, n = len(s1), len(s2)\n",
    "    dp = [[0] * (n + 1) for _ in range(m + 1)]\n",
    "    for i in range(m + 1):\n",
    "        for j in range(n + 1):\n",
    "            if i == 0:\n",
    "                dp[i][j] = j\n",
    "            elif j == 0:\n",
    "                dp[i][j] = i\n",
    "            elif s1[i-1] == s2[j-1]:\n",
    "                dp[i][j] = dp[i-1][j-1]\n",
    "            else:\n",
    "                dp[i][j] = 1 + min(dp[i][j-1], dp[i-1][j], dp[i-1][j-1])\n",
    "    return dp[m][n]\n",
    "\n",
    "s1 = \"kitten\"\n",
    "s2 = \"sitting\"\n",
    "print(\"The Levenshtein Distance between\",s1,\"and\",s2,\"is:\",levenshteinDistance(s1, s2))\n"
   ]
  },
  {
   "cell_type": "markdown",
   "id": "33ae55a4",
   "metadata": {},
   "source": [
    "# List Comprehension in Python"
   ]
  },
  {
   "cell_type": "code",
   "execution_count": 53,
   "id": "a0859b13",
   "metadata": {},
   "outputs": [
    {
     "name": "stdout",
     "output_type": "stream",
     "text": [
      "[0, 1, 2, 3, 4, 5, 6, 7, 8, 9, 10, 11, 12, 13, 14, 15, 16, 17, 18, 19, 20, 21, 22, 23, 24, 25, 26, 27, 28, 29, 30, 31, 32, 33, 34, 35, 36, 37, 38, 39, 40, 41, 42, 43, 44, 45, 46, 47, 48, 49, 50, 51, 52, 53, 54, 55, 56, 57, 58, 59, 60, 61, 62, 63, 64, 65, 66, 67, 68, 69, 70, 71, 72, 73, 74, 75, 76, 77, 78, 79, 80, 81, 82, 83, 84, 85, 86, 87, 88, 89, 90, 91, 92, 93, 94, 95, 96, 97, 98, 99]\n"
     ]
    }
   ],
   "source": [
    "#Create a list with numbers from 0 to 99 in it\n",
    "ls1 = []\n",
    "for item in range(100):\n",
    "    ls1.append(item)\n",
    "print(ls1)"
   ]
  },
  {
   "cell_type": "code",
   "execution_count": 54,
   "id": "60fb8478",
   "metadata": {},
   "outputs": [
    {
     "name": "stdout",
     "output_type": "stream",
     "text": [
      "[0, 1, 2, 3, 4, 5, 6, 7, 8, 9, 10, 11, 12, 13, 14, 15, 16, 17, 18, 19, 20, 21, 22, 23, 24, 25, 26, 27, 28, 29, 30, 31, 32, 33, 34, 35, 36, 37, 38, 39, 40, 41, 42, 43, 44, 45, 46, 47, 48, 49, 50, 51, 52, 53, 54, 55, 56, 57, 58, 59, 60, 61, 62, 63, 64, 65, 66, 67, 68, 69, 70, 71, 72, 73, 74, 75, 76, 77, 78, 79, 80, 81, 82, 83, 84, 85, 86, 87, 88, 89, 90, 91, 92, 93, 94, 95, 96, 97, 98, 99]\n"
     ]
    }
   ],
   "source": [
    "#Create a list with numbers from 0 to 99 in it with list comprehension\n",
    "ls2 = [item for item in range(100)]\n",
    "print(ls2)"
   ]
  },
  {
   "cell_type": "code",
   "execution_count": 55,
   "id": "1e5826fe",
   "metadata": {},
   "outputs": [
    {
     "name": "stdout",
     "output_type": "stream",
     "text": [
      "[1, 3, 5, 7, 9, 11, 13, 15, 17, 19, 21, 23, 25, 27, 29, 31, 33, 35, 37, 39, 41, 43, 45, 47, 49, 51, 53, 55, 57, 59, 61, 63, 65, 67, 69, 71, 73, 75, 77, 79, 81, 83, 85, 87, 89, 91, 93, 95, 97, 99]\n"
     ]
    }
   ],
   "source": [
    "# Create another list containing odd numbers from ls1\n",
    "oddList = []\n",
    "for x in range(100):\n",
    "    if(x%2==1):\n",
    "        oddList.append(x)\n",
    "print(oddList)\n",
    "        "
   ]
  },
  {
   "cell_type": "code",
   "execution_count": 56,
   "id": "cf637a3e",
   "metadata": {},
   "outputs": [
    {
     "name": "stdout",
     "output_type": "stream",
     "text": [
      "[1, 3, 5, 7, 9, 11, 13, 15, 17, 19, 21, 23, 25, 27, 29, 31, 33, 35, 37, 39, 41, 43, 45, 47, 49, 51, 53, 55, 57, 59, 61, 63, 65, 67, 69, 71, 73, 75, 77, 79, 81, 83, 85, 87, 89, 91, 93, 95, 97, 99]\n"
     ]
    }
   ],
   "source": [
    "# Do the same using List Comprehension\n",
    "myoddList = [x for x in range(100) if(x%2==1)]\n",
    "print(myoddList)\n"
   ]
  },
  {
   "cell_type": "code",
   "execution_count": 57,
   "id": "e09fef34",
   "metadata": {},
   "outputs": [
    {
     "name": "stdout",
     "output_type": "stream",
     "text": [
      "[(1, 'a'), (1, 'b'), (1, 'c'), (1, 'd'), (2, 'a'), (2, 'b'), (2, 'c'), (2, 'd'), (3, 'a'), (3, 'b'), (3, 'c'), (3, 'd'), (4, 'a'), (4, 'b'), (4, 'c'), (4, 'd')]\n"
     ]
    }
   ],
   "source": [
    "a = [1, 2, 3, 4]\n",
    "b = [\"a\", \"b\", \"c\", \"d\"]\n",
    "c = []\n",
    "for i in a:\n",
    "    for j in b:\n",
    "      c.append((i , j)) \n",
    "print(c)"
   ]
  },
  {
   "cell_type": "code",
   "execution_count": 58,
   "id": "9cf45590",
   "metadata": {},
   "outputs": [
    {
     "name": "stdout",
     "output_type": "stream",
     "text": [
      "[(1, 'a'), (1, 'b'), (1, 'c'), (1, 'd'), (2, 'a'), (2, 'b'), (2, 'c'), (2, 'd'), (3, 'a'), (3, 'b'), (3, 'c'), (3, 'd'), (4, 'a'), (4, 'b'), (4, 'c'), (4, 'd')]\n"
     ]
    }
   ],
   "source": [
    "a = [1, 2, 3, 4]\n",
    "b = [\"a\", \"b\", \"c\", \"d\"]\n",
    "c = []\n",
    "c = [(i, j) for i in a for j in b]\n",
    "print(c)"
   ]
  },
  {
   "cell_type": "code",
   "execution_count": 59,
   "id": "df9f7c3c",
   "metadata": {},
   "outputs": [
    {
     "name": "stdout",
     "output_type": "stream",
     "text": [
      "[('a', 1), ('a', 2), ('a', 3), ('a', 4), ('b', 1), ('b', 2), ('b', 3), ('b', 4), ('c', 1), ('c', 2), ('c', 3), ('c', 4), ('d', 1), ('d', 2), ('d', 3), ('d', 4)]\n"
     ]
    }
   ],
   "source": [
    "a = [1, 2, 3, 4]\n",
    "b = [\"a\", \"b\", \"c\", \"d\"]\n",
    "c = []\n",
    "c = [(i, j) for i in b for j in a]\n",
    "print(c)"
   ]
  },
  {
   "cell_type": "code",
   "execution_count": 60,
   "id": "7eb3008b",
   "metadata": {},
   "outputs": [
    {
     "name": "stdout",
     "output_type": "stream",
     "text": [
      "[0, 1, 2, 3, 4, 5, 6, 7, 8, 9, 10, 11, 12, 13, 14, 15, 16, 17, 18, 19, 20, 21, 22, 23, 24, 25, 26, 27, 28, 29, 30, 31, 32, 33, 34, 35, 36, 37, 38, 39, 40, 41, 42, 43, 44, 45, 46, 47, 48, 49, 50, 51, 52, 53, 54, 55, 56, 57, 58, 59, 60, 61, 62, 63, 64, 65, 66, 67, 68, 69, 70, 71, 72, 73, 74, 75, 76, 77, 78, 79, 80, 81, 82, 83, 84, 85, 86, 87, 88, 89, 90, 91, 92, 93, 94, 95, 96, 97, 98, 99]\n"
     ]
    }
   ],
   "source": [
    "print(ls1)"
   ]
  },
  {
   "cell_type": "code",
   "execution_count": 61,
   "id": "2ce68149",
   "metadata": {},
   "outputs": [
    {
     "data": {
      "text/plain": [
       "['__add__',\n",
       " '__class__',\n",
       " '__contains__',\n",
       " '__delattr__',\n",
       " '__delitem__',\n",
       " '__dir__',\n",
       " '__doc__',\n",
       " '__eq__',\n",
       " '__format__',\n",
       " '__ge__',\n",
       " '__getattribute__',\n",
       " '__getitem__',\n",
       " '__gt__',\n",
       " '__hash__',\n",
       " '__iadd__',\n",
       " '__imul__',\n",
       " '__init__',\n",
       " '__init_subclass__',\n",
       " '__iter__',\n",
       " '__le__',\n",
       " '__len__',\n",
       " '__lt__',\n",
       " '__mul__',\n",
       " '__ne__',\n",
       " '__new__',\n",
       " '__reduce__',\n",
       " '__reduce_ex__',\n",
       " '__repr__',\n",
       " '__reversed__',\n",
       " '__rmul__',\n",
       " '__setattr__',\n",
       " '__setitem__',\n",
       " '__sizeof__',\n",
       " '__str__',\n",
       " '__subclasshook__',\n",
       " 'append',\n",
       " 'clear',\n",
       " 'copy',\n",
       " 'count',\n",
       " 'extend',\n",
       " 'index',\n",
       " 'insert',\n",
       " 'pop',\n",
       " 'remove',\n",
       " 'reverse',\n",
       " 'sort']"
      ]
     },
     "execution_count": 61,
     "metadata": {},
     "output_type": "execute_result"
    }
   ],
   "source": [
    "dir(ls1)"
   ]
  },
  {
   "cell_type": "code",
   "execution_count": 62,
   "id": "4c076503",
   "metadata": {},
   "outputs": [],
   "source": [
    "ls1.clear()"
   ]
  },
  {
   "cell_type": "code",
   "execution_count": 63,
   "id": "2e0d3cd3",
   "metadata": {},
   "outputs": [
    {
     "name": "stdout",
     "output_type": "stream",
     "text": [
      "[]\n"
     ]
    }
   ],
   "source": [
    "print(ls1)"
   ]
  },
  {
   "cell_type": "markdown",
   "id": "56fccbd2",
   "metadata": {},
   "source": [
    "# List Slicing in Python"
   ]
  },
  {
   "cell_type": "code",
   "execution_count": 64,
   "id": "9dc377e2",
   "metadata": {},
   "outputs": [
    {
     "name": "stdout",
     "output_type": "stream",
     "text": [
      "\n",
      "Original List:\n",
      " [1, 2, 3, 4, 5, 6, 7, 8, 9]\n",
      "\n",
      "Sliced Lists: \n",
      "[4, 6, 8]\n",
      "[1, 3, 5, 7, 9]\n",
      "[1, 2, 3, 4, 5, 6, 7, 8, 9]\n"
     ]
    }
   ],
   "source": [
    "# Initialize list\n",
    "List = [1, 2, 3, 4, 5, 6, 7, 8, 9]\n",
    "\n",
    "# Show original list\n",
    "print(\"\\nOriginal List:\\n\", List)\n",
    "\n",
    "print(\"\\nSliced Lists: \")\n",
    "\n",
    "# Display sliced list\n",
    "print(List[3:9:2])\n",
    "\n",
    "# Display sliced list\n",
    "print(List[::2])\n",
    "\n",
    "# Display sliced list\n",
    "print(List[::])\n"
   ]
  },
  {
   "cell_type": "code",
   "execution_count": null,
   "id": "d34247e6",
   "metadata": {},
   "outputs": [],
   "source": []
  }
 ],
 "metadata": {
  "kernelspec": {
   "display_name": "Python 3 (ipykernel)",
   "language": "python",
   "name": "python3"
  },
  "language_info": {
   "codemirror_mode": {
    "name": "ipython",
    "version": 3
   },
   "file_extension": ".py",
   "mimetype": "text/x-python",
   "name": "python",
   "nbconvert_exporter": "python",
   "pygments_lexer": "ipython3",
   "version": "3.9.13"
  },
  "vscode": {
   "interpreter": {
    "hash": "e6871becdde0d88c29018c4d8cb0372a0d3e2827fb42da8a0d575cb03a5f4171"
   }
  }
 },
 "nbformat": 4,
 "nbformat_minor": 5
}
