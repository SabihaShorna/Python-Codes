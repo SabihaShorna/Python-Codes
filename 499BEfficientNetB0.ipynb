{
 "cells": [
  {
   "cell_type": "code",
   "execution_count": 1,
   "id": "5e52a48c",
   "metadata": {},
   "outputs": [],
   "source": [
    "import numpy as np\n",
    "import tensorflow as tf\n",
    "\n",
    "import numpy as np \n",
    "import pandas as pd \n",
    "import matplotlib.pyplot as plt\n",
    "import os"
   ]
  },
  {
   "cell_type": "code",
   "execution_count": 2,
   "id": "402b764d",
   "metadata": {},
   "outputs": [
    {
     "name": "stdout",
     "output_type": "stream",
     "text": [
      "['Potato___Early_blight', 'Potato___healthy', 'Potato___Late_blight']\n",
      "Types of classes labels found:  3\n"
     ]
    }
   ],
   "source": [
    "dataset_path = os.listdir('PlantVillage')\n",
    "\n",
    "print (dataset_path)  \n",
    "\n",
    "print(\"Types of classes labels found: \", len(dataset_path))"
   ]
  },
  {
   "cell_type": "code",
   "execution_count": 3,
   "id": "106eced8",
   "metadata": {},
   "outputs": [],
   "source": [
    "class_labels = []\n",
    "\n",
    "for item in dataset_path:\n",
    " \n",
    " all_classes = os.listdir('PlantVillage' + '/' +item)\n",
    "\n",
    "\n",
    "\n",
    " for room in all_classes:\n",
    "    class_labels.append((item, str('dataset_path' + '/' +item) + '/' + room))\n"
   ]
  },
  {
   "cell_type": "code",
   "execution_count": 4,
   "id": "497a249f",
   "metadata": {},
   "outputs": [
    {
     "name": "stdout",
     "output_type": "stream",
     "text": [
      "                  Labels                                              image\n",
      "0  Potato___Early_blight  dataset_path/Potato___Early_blight/001187a0-57...\n",
      "1  Potato___Early_blight  dataset_path/Potato___Early_blight/002a55fb-7a...\n",
      "2  Potato___Early_blight  dataset_path/Potato___Early_blight/009c8c31-f2...\n",
      "3  Potato___Early_blight  dataset_path/Potato___Early_blight/00d8f10f-50...\n",
      "4  Potato___Early_blight  dataset_path/Potato___Early_blight/0182e991-97...\n",
      "                    Labels                                              image\n",
      "2147  Potato___Late_blight  dataset_path/Potato___Late_blight/fe9d57f1-8e0...\n",
      "2148  Potato___Late_blight  dataset_path/Potato___Late_blight/feefc118-443...\n",
      "2149  Potato___Late_blight  dataset_path/Potato___Late_blight/ff03a125-445...\n",
      "2150  Potato___Late_blight  dataset_path/Potato___Late_blight/ff7160f9-f8d...\n",
      "2151  Potato___Late_blight  dataset_path/Potato___Late_blight/fff55a7e-2f8...\n"
     ]
    }
   ],
   "source": [
    "# Build a dataframe        \n",
    "df = pd.DataFrame(data=class_labels, columns=['Labels', 'image'])\n",
    "print(df.head())\n",
    "print(df.tail())"
   ]
  },
  {
   "cell_type": "code",
   "execution_count": 5,
   "id": "f9551fb1",
   "metadata": {},
   "outputs": [
    {
     "name": "stdout",
     "output_type": "stream",
     "text": [
      "Total number of images in the dataset:  2152\n",
      "Labels\n",
      "Potato___Early_blight    1000\n",
      "Potato___Late_blight     1000\n",
      "Potato___healthy          152\n",
      "Name: count, dtype: int64\n"
     ]
    }
   ],
   "source": [
    "# Let's check how many samples for each category are present\n",
    "print(\"Total number of images in the dataset: \", len(df))\n",
    "\n",
    "label_count = df['Labels'].value_counts()\n",
    "print(label_count)"
   ]
  },
  {
   "cell_type": "code",
   "execution_count": 6,
   "id": "e2f776d1",
   "metadata": {},
   "outputs": [],
   "source": [
    "import cv2\n",
    "path = 'PlantVillage/'\n",
    "dataset_path = os.listdir('PlantVillage')\n",
    "\n",
    "im_size = 224\n",
    "\n",
    "images = []\n",
    "labels = []\n",
    "\n",
    "for i in dataset_path:\n",
    "    data_path = path + str(i)  \n",
    "    filenames = [i for i in os.listdir(data_path) ]\n",
    "   \n",
    "    for f in filenames:\n",
    "        img = cv2.imread(data_path + '/' + f)\n",
    "        img = cv2.resize(img, (im_size, im_size))\n",
    "        images.append(img)\n",
    "        labels.append(i)"
   ]
  },
  {
   "cell_type": "code",
   "execution_count": 7,
   "id": "27dbf2d6",
   "metadata": {},
   "outputs": [
    {
     "data": {
      "text/plain": [
       "(2152, 224, 224, 3)"
      ]
     },
     "execution_count": 7,
     "metadata": {},
     "output_type": "execute_result"
    }
   ],
   "source": [
    "images = np.array(images)\n",
    "\n",
    "images = images.astype('float32') / 255.0\n",
    "images.shape"
   ]
  },
  {
   "cell_type": "code",
   "execution_count": 8,
   "id": "909544aa",
   "metadata": {},
   "outputs": [
    {
     "name": "stdout",
     "output_type": "stream",
     "text": [
      "['Potato___Early_blight' 'Potato___Early_blight' 'Potato___Early_blight'\n",
      " ... 'Potato___Late_blight' 'Potato___Late_blight' 'Potato___Late_blight']\n",
      "[0 0 0 ... 1 1 1]\n"
     ]
    }
   ],
   "source": [
    "from sklearn.preprocessing import LabelEncoder , OneHotEncoder\n",
    "y=df['Labels'].values\n",
    "print(y)\n",
    "\n",
    "y_labelencoder = LabelEncoder ()\n",
    "y = y_labelencoder.fit_transform (y)\n",
    "print (y)"
   ]
  },
  {
   "cell_type": "code",
   "execution_count": 9,
   "id": "a2680b1c",
   "metadata": {},
   "outputs": [
    {
     "name": "stdout",
     "output_type": "stream",
     "text": [
      "[[1. 0. 0.]\n",
      " [1. 0. 0.]\n",
      " [1. 0. 0.]\n",
      " [1. 0. 0.]\n",
      " [1. 0. 0.]]\n",
      "[[1. 0. 0.]\n",
      " [1. 0. 0.]\n",
      " [1. 0. 0.]\n",
      " ...\n",
      " [0. 1. 0.]\n",
      " [0. 1. 0.]\n",
      " [0. 1. 0.]]\n"
     ]
    }
   ],
   "source": [
    "y=y.reshape(-1,1)\n",
    "\n",
    "from sklearn.compose import ColumnTransformer\n",
    "ct = ColumnTransformer([('my_ohe', OneHotEncoder(), [0])], remainder='passthrough')\n",
    "Y = ct.fit_transform(y) #.toarray()\n",
    "print(Y[:5])\n",
    "print(Y[35:])"
   ]
  },
  {
   "cell_type": "code",
   "execution_count": 10,
   "id": "07ae6006",
   "metadata": {},
   "outputs": [
    {
     "name": "stdout",
     "output_type": "stream",
     "text": [
      "(2044, 224, 224, 3)\n",
      "(2044, 3)\n",
      "(108, 224, 224, 3)\n",
      "(108, 3)\n"
     ]
    }
   ],
   "source": [
    "from sklearn.utils import shuffle\n",
    "from sklearn.model_selection import train_test_split\n",
    "\n",
    "\n",
    "images, Y = shuffle(images, Y, random_state=1)\n",
    "\n",
    "\n",
    "train_x, test_x, train_y, test_y = train_test_split(images, Y, test_size=0.05, random_state=415)\n",
    "\n",
    "\n",
    "print(train_x.shape)\n",
    "print(train_y.shape)\n",
    "print(test_x.shape)\n",
    "print(test_y.shape)"
   ]
  },
  {
   "cell_type": "code",
   "execution_count": 11,
   "id": "8f726563",
   "metadata": {},
   "outputs": [],
   "source": [
    "from tensorflow.keras import layers\n",
    "from tensorflow.keras.applications import EfficientNetB0\n",
    "\n",
    "NUM_CLASSES = 3\n",
    "IMG_SIZE = 224\n",
    "size = (IMG_SIZE, IMG_SIZE)\n",
    "\n",
    "\n",
    "inputs = layers.Input(shape=(IMG_SIZE, IMG_SIZE, 3))\n",
    "\n",
    "\n",
    "\n",
    "outputs = EfficientNetB0(include_top=True, weights=None, classes=NUM_CLASSES)(inputs)"
   ]
  },
  {
   "cell_type": "code",
   "execution_count": 12,
   "id": "58d64f02",
   "metadata": {},
   "outputs": [
    {
     "name": "stdout",
     "output_type": "stream",
     "text": [
      "Model: \"model\"\n",
      "_________________________________________________________________\n",
      " Layer (type)                Output Shape              Param #   \n",
      "=================================================================\n",
      " input_1 (InputLayer)        [(None, 224, 224, 3)]     0         \n",
      "                                                                 \n",
      " efficientnetb0 (Functional)  (None, 3)                4053414   \n",
      "                                                                 \n",
      "=================================================================\n",
      "Total params: 4,053,414\n",
      "Trainable params: 4,011,391\n",
      "Non-trainable params: 42,023\n",
      "_________________________________________________________________\n",
      "Epoch 1/20\n",
      "64/64 - 511s - loss: 1.1672 - accuracy: 0.7593 - 511s/epoch - 8s/step\n",
      "Epoch 2/20\n",
      "64/64 - 461s - loss: 0.4086 - accuracy: 0.8699 - 461s/epoch - 7s/step\n",
      "Epoch 3/20\n",
      "64/64 - 434s - loss: 0.2171 - accuracy: 0.9183 - 434s/epoch - 7s/step\n",
      "Epoch 4/20\n",
      "64/64 - 433s - loss: 0.1793 - accuracy: 0.9428 - 433s/epoch - 7s/step\n",
      "Epoch 5/20\n",
      "64/64 - 433s - loss: 0.1116 - accuracy: 0.9643 - 433s/epoch - 7s/step\n",
      "Epoch 6/20\n",
      "64/64 - 434s - loss: 0.0967 - accuracy: 0.9653 - 434s/epoch - 7s/step\n",
      "Epoch 7/20\n",
      "64/64 - 434s - loss: 0.0897 - accuracy: 0.9677 - 434s/epoch - 7s/step\n",
      "Epoch 8/20\n",
      "64/64 - 434s - loss: 0.0941 - accuracy: 0.9682 - 434s/epoch - 7s/step\n",
      "Epoch 9/20\n",
      "64/64 - 436s - loss: 0.0296 - accuracy: 0.9883 - 436s/epoch - 7s/step\n",
      "Epoch 10/20\n",
      "64/64 - 435s - loss: 0.0701 - accuracy: 0.9770 - 435s/epoch - 7s/step\n",
      "Epoch 11/20\n",
      "64/64 - 436s - loss: 0.0484 - accuracy: 0.9843 - 436s/epoch - 7s/step\n",
      "Epoch 12/20\n",
      "64/64 - 453s - loss: 0.0483 - accuracy: 0.9853 - 453s/epoch - 7s/step\n",
      "Epoch 13/20\n",
      "64/64 - 440s - loss: 0.0167 - accuracy: 0.9956 - 440s/epoch - 7s/step\n",
      "Epoch 14/20\n",
      "64/64 - 420s - loss: 0.0201 - accuracy: 0.9941 - 420s/epoch - 7s/step\n",
      "Epoch 15/20\n",
      "64/64 - 420s - loss: 0.0396 - accuracy: 0.9863 - 420s/epoch - 7s/step\n",
      "Epoch 16/20\n",
      "64/64 - 421s - loss: 0.0495 - accuracy: 0.9814 - 421s/epoch - 7s/step\n",
      "Epoch 17/20\n",
      "64/64 - 420s - loss: 0.0307 - accuracy: 0.9883 - 420s/epoch - 7s/step\n",
      "Epoch 18/20\n",
      "64/64 - 421s - loss: 0.0456 - accuracy: 0.9839 - 421s/epoch - 7s/step\n",
      "Epoch 19/20\n",
      "64/64 - 511s - loss: 0.0367 - accuracy: 0.9863 - 511s/epoch - 8s/step\n",
      "Epoch 20/20\n",
      "64/64 - 427s - loss: 0.0525 - accuracy: 0.9848 - 427s/epoch - 7s/step\n"
     ]
    }
   ],
   "source": [
    "model = tf.keras.Model(inputs, outputs)\n",
    "\n",
    "model.compile(optimizer=\"adam\", loss=\"categorical_crossentropy\", metrics=[\"accuracy\"] )\n",
    "\n",
    "model.summary()\n",
    "\n",
    "hist = model.fit(train_x, train_y, epochs=20, verbose=2)"
   ]
  }
 ],
 "metadata": {
  "kernelspec": {
   "display_name": "Python 3 (ipykernel)",
   "language": "python",
   "name": "python3"
  },
  "language_info": {
   "codemirror_mode": {
    "name": "ipython",
    "version": 3
   },
   "file_extension": ".py",
   "mimetype": "text/x-python",
   "name": "python",
   "nbconvert_exporter": "python",
   "pygments_lexer": "ipython3",
   "version": "3.9.13"
  }
 },
 "nbformat": 4,
 "nbformat_minor": 5
}
