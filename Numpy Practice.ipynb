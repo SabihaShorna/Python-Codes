{
 "cells": [
  {
   "cell_type": "markdown",
   "id": "53f85b22",
   "metadata": {},
   "source": [
    "# Install Numpy"
   ]
  },
  {
   "cell_type": "code",
   "execution_count": 1,
   "id": "65ac94f0",
   "metadata": {},
   "outputs": [
    {
     "name": "stdout",
     "output_type": "stream",
     "text": [
      "Requirement already satisfied: numpy in c:\\users\\asus\\anaconda3\\lib\\site-packages (1.19.5)\n"
     ]
    }
   ],
   "source": [
    "#!pip install numpy"
   ]
  },
  {
   "cell_type": "markdown",
   "id": "5e4df158",
   "metadata": {},
   "source": [
    "# Load Library"
   ]
  },
  {
   "cell_type": "code",
   "execution_count": 2,
   "id": "e190787b",
   "metadata": {},
   "outputs": [],
   "source": [
    "import numpy as np"
   ]
  },
  {
   "cell_type": "markdown",
   "id": "875e044a",
   "metadata": {},
   "source": [
    "# Create Numpy"
   ]
  },
  {
   "cell_type": "markdown",
   "id": "2e0544fb",
   "metadata": {},
   "source": [
    "Numpy can be used to create n-dimensional array"
   ]
  },
  {
   "cell_type": "code",
   "execution_count": 4,
   "id": "b88f91b6",
   "metadata": {},
   "outputs": [
    {
     "data": {
      "text/plain": [
       "array([[0.42178888, 0.40468902, 0.87316724],\n",
       "       [0.27404174, 0.07040089, 0.27913641]])"
      ]
     },
     "execution_count": 4,
     "metadata": {},
     "output_type": "execute_result"
    }
   ],
   "source": [
    "randArr = np.random.rand(2,3)\n",
    "randArr"
   ]
  },
  {
   "cell_type": "code",
   "execution_count": 5,
   "id": "110f5d20",
   "metadata": {},
   "outputs": [],
   "source": [
    "data = np.random.rand(2,3,4)\n",
    "zeros = np.zeros((2,2,2))\n",
    "ones = np.ones((2,3,4))\n",
    "full = np.full((2,3,4), 7)"
   ]
  },
  {
   "cell_type": "code",
   "execution_count": 6,
   "id": "178fa067",
   "metadata": {},
   "outputs": [
    {
     "data": {
      "text/plain": [
       "array([[[0.49833573, 0.35814805, 0.45583988, 0.11619984],\n",
       "        [0.95797533, 0.4859873 , 0.40855983, 0.76210238],\n",
       "        [0.5210984 , 0.67240998, 0.34746058, 0.36727317]],\n",
       "\n",
       "       [[0.65274093, 0.51170457, 0.01290777, 0.95206438],\n",
       "        [0.6980537 , 0.98085035, 0.71615256, 0.45708538],\n",
       "        [0.23405486, 0.66995325, 0.82233798, 0.54489554]]])"
      ]
     },
     "execution_count": 6,
     "metadata": {},
     "output_type": "execute_result"
    }
   ],
   "source": [
    "data"
   ]
  },
  {
   "cell_type": "code",
   "execution_count": 7,
   "id": "bb5142a4",
   "metadata": {},
   "outputs": [
    {
     "data": {
      "text/plain": [
       "array([[[0., 0.],\n",
       "        [0., 0.]],\n",
       "\n",
       "       [[0., 0.],\n",
       "        [0., 0.]]])"
      ]
     },
     "execution_count": 7,
     "metadata": {},
     "output_type": "execute_result"
    }
   ],
   "source": [
    "zeros"
   ]
  },
  {
   "cell_type": "code",
   "execution_count": 8,
   "id": "0d0349a8",
   "metadata": {},
   "outputs": [
    {
     "data": {
      "text/plain": [
       "array([[[1., 1., 1., 1.],\n",
       "        [1., 1., 1., 1.],\n",
       "        [1., 1., 1., 1.]],\n",
       "\n",
       "       [[1., 1., 1., 1.],\n",
       "        [1., 1., 1., 1.],\n",
       "        [1., 1., 1., 1.]]])"
      ]
     },
     "execution_count": 8,
     "metadata": {},
     "output_type": "execute_result"
    }
   ],
   "source": [
    "ones"
   ]
  },
  {
   "cell_type": "code",
   "execution_count": 9,
   "id": "a6f121e4",
   "metadata": {},
   "outputs": [
    {
     "data": {
      "text/plain": [
       "array([[[7, 7, 7, 7],\n",
       "        [7, 7, 7, 7],\n",
       "        [7, 7, 7, 7]],\n",
       "\n",
       "       [[7, 7, 7, 7],\n",
       "        [7, 7, 7, 7],\n",
       "        [7, 7, 7, 7]]])"
      ]
     },
     "execution_count": 9,
     "metadata": {},
     "output_type": "execute_result"
    }
   ],
   "source": [
    "full"
   ]
  },
  {
   "cell_type": "code",
   "execution_count": 14,
   "id": "c79c69a4",
   "metadata": {},
   "outputs": [
    {
     "data": {
      "text/plain": [
       "array([[7, 7],\n",
       "       [7, 7],\n",
       "       [7, 7],\n",
       "       [7, 7],\n",
       "       [7, 7]])"
      ]
     },
     "execution_count": 14,
     "metadata": {},
     "output_type": "execute_result"
    }
   ],
   "source": [
    "full2 = np.full((5, 2), 7)\n",
    "full2"
   ]
  },
  {
   "cell_type": "markdown",
   "id": "a091fc58",
   "metadata": {},
   "source": [
    "# Create a custom array"
   ]
  },
  {
   "cell_type": "code",
   "execution_count": 15,
   "id": "bacd071b",
   "metadata": {},
   "outputs": [
    {
     "data": {
      "text/plain": [
       "array([[1, 2, 3, 4],\n",
       "       [1, 2, 3, 4],\n",
       "       [4, 5, 6, 7]])"
      ]
     },
     "execution_count": 15,
     "metadata": {},
     "output_type": "execute_result"
    }
   ],
   "source": [
    "arr = np.array([[1,2,3,4],[1,2,3,4], [4,5,6, 7]])\n",
    "arr"
   ]
  },
  {
   "cell_type": "code",
   "execution_count": 16,
   "id": "4e7b072c",
   "metadata": {},
   "outputs": [
    {
     "data": {
      "text/plain": [
       "numpy.ndarray"
      ]
     },
     "execution_count": 16,
     "metadata": {},
     "output_type": "execute_result"
    }
   ],
   "source": [
    "type(arr)"
   ]
  },
  {
   "cell_type": "code",
   "execution_count": 17,
   "id": "1d005909",
   "metadata": {},
   "outputs": [
    {
     "data": {
      "text/plain": [
       "(3, 4)"
      ]
     },
     "execution_count": 17,
     "metadata": {},
     "output_type": "execute_result"
    }
   ],
   "source": [
    "arr.shape"
   ]
  },
  {
   "cell_type": "markdown",
   "id": "eb7e895b",
   "metadata": {},
   "source": [
    "# Read"
   ]
  },
  {
   "cell_type": "code",
   "execution_count": 18,
   "id": "5a0a15fe",
   "metadata": {},
   "outputs": [
    {
     "data": {
      "text/plain": [
       "array([[[0.49833573, 0.35814805, 0.45583988, 0.11619984],\n",
       "        [0.95797533, 0.4859873 , 0.40855983, 0.76210238],\n",
       "        [0.5210984 , 0.67240998, 0.34746058, 0.36727317]],\n",
       "\n",
       "       [[0.65274093, 0.51170457, 0.01290777, 0.95206438],\n",
       "        [0.6980537 , 0.98085035, 0.71615256, 0.45708538],\n",
       "        [0.23405486, 0.66995325, 0.82233798, 0.54489554]]])"
      ]
     },
     "execution_count": 18,
     "metadata": {},
     "output_type": "execute_result"
    }
   ],
   "source": [
    "data"
   ]
  },
  {
   "cell_type": "code",
   "execution_count": 19,
   "id": "2fc3aad9",
   "metadata": {},
   "outputs": [
    {
     "data": {
      "text/plain": [
       "(2, 3, 4)"
      ]
     },
     "execution_count": 19,
     "metadata": {},
     "output_type": "execute_result"
    }
   ],
   "source": [
    "shape = data.shape\n",
    "shape"
   ]
  },
  {
   "cell_type": "code",
   "execution_count": 20,
   "id": "3f7286c0",
   "metadata": {},
   "outputs": [
    {
     "data": {
      "text/plain": [
       "24"
      ]
     },
     "execution_count": 20,
     "metadata": {},
     "output_type": "execute_result"
    }
   ],
   "source": [
    "size = data.size\n",
    "size"
   ]
  },
  {
   "cell_type": "code",
   "execution_count": 21,
   "id": "ade3d465",
   "metadata": {},
   "outputs": [
    {
     "data": {
      "text/plain": [
       "dtype('float64')"
      ]
     },
     "execution_count": 21,
     "metadata": {},
     "output_type": "execute_result"
    }
   ],
   "source": [
    "types = data.dtype\n",
    "types"
   ]
  },
  {
   "cell_type": "markdown",
   "id": "c9e87641",
   "metadata": {},
   "source": [
    "# Slicing"
   ]
  },
  {
   "cell_type": "code",
   "execution_count": 22,
   "id": "4ea820c9",
   "metadata": {},
   "outputs": [
    {
     "data": {
      "text/plain": [
       "array([[[0.49833573, 0.35814805, 0.45583988, 0.11619984],\n",
       "        [0.95797533, 0.4859873 , 0.40855983, 0.76210238],\n",
       "        [0.5210984 , 0.67240998, 0.34746058, 0.36727317]],\n",
       "\n",
       "       [[0.65274093, 0.51170457, 0.01290777, 0.95206438],\n",
       "        [0.6980537 , 0.98085035, 0.71615256, 0.45708538],\n",
       "        [0.23405486, 0.66995325, 0.82233798, 0.54489554]]])"
      ]
     },
     "execution_count": 22,
     "metadata": {},
     "output_type": "execute_result"
    }
   ],
   "source": [
    "data"
   ]
  },
  {
   "cell_type": "code",
   "execution_count": 23,
   "id": "bb470ff5",
   "metadata": {},
   "outputs": [
    {
     "data": {
      "text/plain": [
       "array([[0.49833573, 0.35814805, 0.45583988, 0.11619984],\n",
       "       [0.95797533, 0.4859873 , 0.40855983, 0.76210238],\n",
       "       [0.5210984 , 0.67240998, 0.34746058, 0.36727317]])"
      ]
     },
     "execution_count": 23,
     "metadata": {},
     "output_type": "execute_result"
    }
   ],
   "source": [
    "data[0]"
   ]
  },
  {
   "cell_type": "code",
   "execution_count": 24,
   "id": "557f9c20",
   "metadata": {},
   "outputs": [
    {
     "data": {
      "text/plain": [
       "array([[[0.49833573, 0.35814805, 0.45583988, 0.11619984],\n",
       "        [0.95797533, 0.4859873 , 0.40855983, 0.76210238],\n",
       "        [0.5210984 , 0.67240998, 0.34746058, 0.36727317]],\n",
       "\n",
       "       [[0.65274093, 0.51170457, 0.01290777, 0.95206438],\n",
       "        [0.6980537 , 0.98085035, 0.71615256, 0.45708538],\n",
       "        [0.23405486, 0.66995325, 0.82233798, 0.54489554]]])"
      ]
     },
     "execution_count": 24,
     "metadata": {},
     "output_type": "execute_result"
    }
   ],
   "source": [
    "data[0:2]"
   ]
  },
  {
   "cell_type": "code",
   "execution_count": 25,
   "id": "bb87c576",
   "metadata": {},
   "outputs": [
    {
     "data": {
      "text/plain": [
       "array([[0.65274093, 0.51170457, 0.01290777, 0.95206438],\n",
       "       [0.6980537 , 0.98085035, 0.71615256, 0.45708538],\n",
       "       [0.23405486, 0.66995325, 0.82233798, 0.54489554]])"
      ]
     },
     "execution_count": 25,
     "metadata": {},
     "output_type": "execute_result"
    }
   ],
   "source": [
    "data[-1]"
   ]
  },
  {
   "cell_type": "code",
   "execution_count": 26,
   "id": "d501a49b",
   "metadata": {},
   "outputs": [
    {
     "data": {
      "text/plain": [
       "array([[[0.49833573, 0.35814805, 0.45583988, 0.11619984],\n",
       "        [0.95797533, 0.4859873 , 0.40855983, 0.76210238],\n",
       "        [0.5210984 , 0.67240998, 0.34746058, 0.36727317]],\n",
       "\n",
       "       [[0.65274093, 0.51170457, 0.01290777, 0.95206438],\n",
       "        [0.6980537 , 0.98085035, 0.71615256, 0.45708538],\n",
       "        [0.23405486, 0.66995325, 0.82233798, 0.54489554]]])"
      ]
     },
     "execution_count": 26,
     "metadata": {},
     "output_type": "execute_result"
    }
   ],
   "source": [
    "data"
   ]
  },
  {
   "cell_type": "code",
   "execution_count": 27,
   "id": "a4838b84",
   "metadata": {},
   "outputs": [
    {
     "data": {
      "text/plain": [
       "0.49833573178314794"
      ]
     },
     "execution_count": 27,
     "metadata": {},
     "output_type": "execute_result"
    }
   ],
   "source": [
    "data[0][0][0]"
   ]
  },
  {
   "cell_type": "code",
   "execution_count": 28,
   "id": "7ec71e81",
   "metadata": {},
   "outputs": [
    {
     "data": {
      "text/plain": [
       "array([[0.49833573, 0.35814805, 0.45583988, 0.11619984],\n",
       "       [0.95797533, 0.4859873 , 0.40855983, 0.76210238]])"
      ]
     },
     "execution_count": 28,
     "metadata": {},
     "output_type": "execute_result"
    }
   ],
   "source": [
    "data[0][0:2]"
   ]
  },
  {
   "cell_type": "code",
   "execution_count": 29,
   "id": "4a3efcaf",
   "metadata": {},
   "outputs": [],
   "source": [
    "list1 = np.random.rand(10)\n",
    "list2 = np.random.rand(10)"
   ]
  },
  {
   "cell_type": "code",
   "execution_count": 30,
   "id": "7d871860",
   "metadata": {},
   "outputs": [
    {
     "data": {
      "text/plain": [
       "array([0.28867657, 0.49936922, 0.24538865, 0.28510851, 0.95921054,\n",
       "       0.28653244, 0.5741769 , 0.15600395, 0.36299096, 0.88580105])"
      ]
     },
     "execution_count": 30,
     "metadata": {},
     "output_type": "execute_result"
    }
   ],
   "source": [
    "list1"
   ]
  },
  {
   "cell_type": "code",
   "execution_count": 31,
   "id": "94922879",
   "metadata": {},
   "outputs": [
    {
     "data": {
      "text/plain": [
       "array([0.03521954, 0.93878183, 0.47703129, 0.61021787, 0.96137491,\n",
       "       0.17028628, 0.14424841, 0.5791241 , 0.27462383, 0.93793825])"
      ]
     },
     "execution_count": 31,
     "metadata": {},
     "output_type": "execute_result"
    }
   ],
   "source": [
    "list2"
   ]
  },
  {
   "cell_type": "code",
   "execution_count": 32,
   "id": "369eeecd",
   "metadata": {},
   "outputs": [],
   "source": [
    "# Basic Math\n",
    "add = np.add(list1, list2)\n",
    "sub = np.subtract(list1, list2)\n",
    "div = np.divide(list1, list2)\n",
    "mul = np.multiply(list1, list2)\n",
    "dot = np.dot(list1, list2)"
   ]
  },
  {
   "cell_type": "code",
   "execution_count": 33,
   "id": "4e570035",
   "metadata": {},
   "outputs": [
    {
     "data": {
      "text/plain": [
       "array([0.3238961 , 1.43815105, 0.72241994, 0.89532638, 1.92058544,\n",
       "       0.45681872, 0.71842532, 0.73512806, 0.63761479, 1.82373929])"
      ]
     },
     "execution_count": 33,
     "metadata": {},
     "output_type": "execute_result"
    }
   ],
   "source": [
    "add"
   ]
  },
  {
   "cell_type": "code",
   "execution_count": 34,
   "id": "a1c529b1",
   "metadata": {},
   "outputs": [
    {
     "data": {
      "text/plain": [
       "array([ 0.25345703, -0.43941261, -0.23164264, -0.32510935, -0.00216437,\n",
       "        0.11624616,  0.42992849, -0.42312015,  0.08836713, -0.0521372 ])"
      ]
     },
     "execution_count": 34,
     "metadata": {},
     "output_type": "execute_result"
    }
   ],
   "source": [
    "sub"
   ]
  },
  {
   "cell_type": "code",
   "execution_count": 35,
   "id": "edfa197a",
   "metadata": {},
   "outputs": [
    {
     "data": {
      "text/plain": [
       "array([8.19648973, 0.5319332 , 0.51440788, 0.46722413, 0.99774867,\n",
       "       1.68265134, 3.98047293, 0.26937914, 1.32177515, 0.94441297])"
      ]
     },
     "execution_count": 35,
     "metadata": {},
     "output_type": "execute_result"
    }
   ],
   "source": [
    "div"
   ]
  },
  {
   "cell_type": "code",
   "execution_count": 36,
   "id": "b6272cf2",
   "metadata": {},
   "outputs": [
    {
     "data": {
      "text/plain": [
       "array([0.01016705, 0.46879875, 0.11705807, 0.17397831, 0.92216094,\n",
       "       0.04879254, 0.08282411, 0.09034565, 0.09968597, 0.83082668])"
      ]
     },
     "execution_count": 36,
     "metadata": {},
     "output_type": "execute_result"
    }
   ],
   "source": [
    "mul"
   ]
  },
  {
   "cell_type": "code",
   "execution_count": 37,
   "id": "0ee6546d",
   "metadata": {},
   "outputs": [
    {
     "data": {
      "text/plain": [
       "2.844638065958893"
      ]
     },
     "execution_count": 37,
     "metadata": {},
     "output_type": "execute_result"
    }
   ],
   "source": [
    "dot"
   ]
  },
  {
   "cell_type": "code",
   "execution_count": null,
   "id": "d0a2bc6a",
   "metadata": {},
   "outputs": [],
   "source": [
    "#Statistical Functions SAPLEMM\n",
    "sqrt = np.sqrt(25)\n",
    "ab = np.abs(-5)\n",
    "power = np.power(3, 2)\n",
    "log = np.log(100)\n",
    "ex = np.exp([3,5])\n",
    "minim = np.min(list1)\n",
    "maxm = np.max(list2)"
   ]
  },
  {
   "cell_type": "code",
   "execution_count": null,
   "id": "f649c4d7",
   "metadata": {},
   "outputs": [],
   "source": [
    "maxm"
   ]
  },
  {
   "cell_type": "code",
   "execution_count": null,
   "id": "df32bb19",
   "metadata": {},
   "outputs": [],
   "source": [
    "data"
   ]
  },
  {
   "cell_type": "code",
   "execution_count": null,
   "id": "53961859",
   "metadata": {},
   "outputs": [],
   "source": [
    "data[0][0][0] = 700\n",
    "data"
   ]
  },
  {
   "cell_type": "code",
   "execution_count": null,
   "id": "92232e7e",
   "metadata": {},
   "outputs": [],
   "source": [
    "data.sort()"
   ]
  },
  {
   "cell_type": "code",
   "execution_count": null,
   "id": "3a7f8bff",
   "metadata": {},
   "outputs": [],
   "source": [
    "data"
   ]
  },
  {
   "cell_type": "code",
   "execution_count": 38,
   "id": "fd15ed77",
   "metadata": {},
   "outputs": [
    {
     "data": {
      "text/plain": [
       "array([[[0.49833573, 0.35814805, 0.45583988, 0.11619984],\n",
       "        [0.95797533, 0.4859873 , 0.40855983, 0.76210238],\n",
       "        [0.5210984 , 0.67240998, 0.34746058, 0.36727317]],\n",
       "\n",
       "       [[0.65274093, 0.51170457, 0.01290777, 0.95206438],\n",
       "        [0.6980537 , 0.98085035, 0.71615256, 0.45708538],\n",
       "        [0.23405486, 0.66995325, 0.82233798, 0.54489554]]])"
      ]
     },
     "execution_count": 38,
     "metadata": {},
     "output_type": "execute_result"
    }
   ],
   "source": [
    "data"
   ]
  },
  {
   "cell_type": "code",
   "execution_count": 39,
   "id": "c01c0d2d",
   "metadata": {},
   "outputs": [
    {
     "data": {
      "text/plain": [
       "(2, 3, 4)"
      ]
     },
     "execution_count": 39,
     "metadata": {},
     "output_type": "execute_result"
    }
   ],
   "source": [
    "data.shape"
   ]
  },
  {
   "cell_type": "code",
   "execution_count": 40,
   "id": "df2e725c",
   "metadata": {},
   "outputs": [
    {
     "data": {
      "text/plain": [
       "array([[[0.49833573, 0.35814805, 0.45583988, 0.11619984, 0.95797533,\n",
       "         0.4859873 ],\n",
       "        [0.40855983, 0.76210238, 0.5210984 , 0.67240998, 0.34746058,\n",
       "         0.36727317]],\n",
       "\n",
       "       [[0.65274093, 0.51170457, 0.01290777, 0.95206438, 0.6980537 ,\n",
       "         0.98085035],\n",
       "        [0.71615256, 0.45708538, 0.23405486, 0.66995325, 0.82233798,\n",
       "         0.54489554]]])"
      ]
     },
     "execution_count": 40,
     "metadata": {},
     "output_type": "execute_result"
    }
   ],
   "source": [
    "data = data.reshape(2,2, -1)\n",
    "data"
   ]
  },
  {
   "cell_type": "code",
   "execution_count": 41,
   "id": "fd4d3dc8",
   "metadata": {},
   "outputs": [
    {
     "data": {
      "text/plain": [
       "(2, 2, 6)"
      ]
     },
     "execution_count": 41,
     "metadata": {},
     "output_type": "execute_result"
    }
   ],
   "source": [
    "data.shape"
   ]
  },
  {
   "cell_type": "code",
   "execution_count": 42,
   "id": "0273ad8e",
   "metadata": {},
   "outputs": [
    {
     "data": {
      "text/plain": [
       "array([[[0.49833573, 0.35814805, 0.45583988, 0.11619984, 0.95797533,\n",
       "         0.4859873 ],\n",
       "        [0.40855983, 0.76210238, 0.5210984 , 0.67240998, 0.34746058,\n",
       "         0.36727317]],\n",
       "\n",
       "       [[0.65274093, 0.51170457, 0.01290777, 0.95206438, 0.6980537 ,\n",
       "         0.98085035],\n",
       "        [0.71615256, 0.45708538, 0.23405486, 0.66995325, 0.82233798,\n",
       "         0.54489554]]])"
      ]
     },
     "execution_count": 42,
     "metadata": {},
     "output_type": "execute_result"
    }
   ],
   "source": [
    "data"
   ]
  },
  {
   "cell_type": "code",
   "execution_count": 43,
   "id": "33e2c0d6",
   "metadata": {},
   "outputs": [
    {
     "data": {
      "text/plain": [
       "(2, 2, 6)"
      ]
     },
     "execution_count": 43,
     "metadata": {},
     "output_type": "execute_result"
    }
   ],
   "source": [
    "data.shape"
   ]
  },
  {
   "cell_type": "code",
   "execution_count": 45,
   "id": "f39054bb",
   "metadata": {},
   "outputs": [],
   "source": [
    "data = data.reshape(24)"
   ]
  },
  {
   "cell_type": "code",
   "execution_count": 46,
   "id": "2b602a54",
   "metadata": {},
   "outputs": [
    {
     "data": {
      "text/plain": [
       "array([0.49833573, 0.35814805, 0.45583988, 0.11619984, 0.95797533,\n",
       "       0.4859873 , 0.40855983, 0.76210238, 0.5210984 , 0.67240998,\n",
       "       0.34746058, 0.36727317, 0.65274093, 0.51170457, 0.01290777,\n",
       "       0.95206438, 0.6980537 , 0.98085035, 0.71615256, 0.45708538,\n",
       "       0.23405486, 0.66995325, 0.82233798, 0.54489554])"
      ]
     },
     "execution_count": 46,
     "metadata": {},
     "output_type": "execute_result"
    }
   ],
   "source": [
    "data"
   ]
  },
  {
   "cell_type": "code",
   "execution_count": 47,
   "id": "934d0b7a",
   "metadata": {},
   "outputs": [
    {
     "data": {
      "text/plain": [
       "array([[[0.49833573, 0.35814805, 0.45583988, 0.11619984],\n",
       "        [0.95797533, 0.4859873 , 0.40855983, 0.76210238]],\n",
       "\n",
       "       [[0.5210984 , 0.67240998, 0.34746058, 0.36727317],\n",
       "        [0.65274093, 0.51170457, 0.01290777, 0.95206438]],\n",
       "\n",
       "       [[0.6980537 , 0.98085035, 0.71615256, 0.45708538],\n",
       "        [0.23405486, 0.66995325, 0.82233798, 0.54489554]]])"
      ]
     },
     "execution_count": 47,
     "metadata": {},
     "output_type": "execute_result"
    }
   ],
   "source": [
    "data = data.reshape(3, 2, -1)\n",
    "data"
   ]
  },
  {
   "cell_type": "code",
   "execution_count": null,
   "id": "4a8d126e",
   "metadata": {},
   "outputs": [],
   "source": [
    "scores = np.zeros(8)\n",
    "scores"
   ]
  },
  {
   "cell_type": "code",
   "execution_count": null,
   "id": "acb0e3e2",
   "metadata": {},
   "outputs": [],
   "source": [
    "scores = np.append(scores, [3,4])\n",
    "scores"
   ]
  },
  {
   "cell_type": "code",
   "execution_count": null,
   "id": "9bba9ce3",
   "metadata": {},
   "outputs": [],
   "source": [
    "scores.size"
   ]
  },
  {
   "cell_type": "code",
   "execution_count": null,
   "id": "1599b4c8",
   "metadata": {},
   "outputs": [],
   "source": [
    "#insert 1 at location 2\n",
    "scores = np.insert(scores, 2, 1)\n",
    "scores"
   ]
  },
  {
   "cell_type": "markdown",
   "id": "a55e6249",
   "metadata": {},
   "source": [
    "# Delete"
   ]
  },
  {
   "cell_type": "code",
   "execution_count": null,
   "id": "f7e68715",
   "metadata": {},
   "outputs": [],
   "source": [
    "data"
   ]
  },
  {
   "cell_type": "code",
   "execution_count": null,
   "id": "6ccb128f",
   "metadata": {},
   "outputs": [],
   "source": [
    "np.delete(data, 0, axis = 1 )"
   ]
  },
  {
   "cell_type": "markdown",
   "id": "225e8f95",
   "metadata": {},
   "source": [
    "# Reshape"
   ]
  },
  {
   "cell_type": "code",
   "execution_count": null,
   "id": "e4b7c2a5",
   "metadata": {},
   "outputs": [],
   "source": [
    "data"
   ]
  },
  {
   "cell_type": "code",
   "execution_count": null,
   "id": "78c53363",
   "metadata": {},
   "outputs": [],
   "source": [
    "data.shape"
   ]
  },
  {
   "cell_type": "code",
   "execution_count": null,
   "id": "35002b5f",
   "metadata": {},
   "outputs": [],
   "source": [
    "data2 = data.reshape(24)"
   ]
  },
  {
   "cell_type": "code",
   "execution_count": null,
   "id": "5e573fdf",
   "metadata": {},
   "outputs": [],
   "source": [
    "data2"
   ]
  },
  {
   "cell_type": "code",
   "execution_count": null,
   "id": "1df75326",
   "metadata": {},
   "outputs": [],
   "source": [
    "data2.shape"
   ]
  },
  {
   "cell_type": "code",
   "execution_count": null,
   "id": "73384cc0",
   "metadata": {},
   "outputs": [],
   "source": [
    "data3 = data.reshape(4,6)"
   ]
  },
  {
   "cell_type": "code",
   "execution_count": null,
   "id": "ad21e4eb",
   "metadata": {},
   "outputs": [],
   "source": [
    "data3"
   ]
  },
  {
   "cell_type": "code",
   "execution_count": null,
   "id": "04021963",
   "metadata": {},
   "outputs": [],
   "source": [
    "data3.shape"
   ]
  },
  {
   "cell_type": "code",
   "execution_count": null,
   "id": "10352985",
   "metadata": {},
   "outputs": [],
   "source": []
  }
 ],
 "metadata": {
  "kernelspec": {
   "display_name": "Python 3",
   "language": "python",
   "name": "python3"
  },
  "language_info": {
   "codemirror_mode": {
    "name": "ipython",
    "version": 3
   },
   "file_extension": ".py",
   "mimetype": "text/x-python",
   "name": "python",
   "nbconvert_exporter": "python",
   "pygments_lexer": "ipython3",
   "version": "3.8.8"
  }
 },
 "nbformat": 4,
 "nbformat_minor": 5
}
